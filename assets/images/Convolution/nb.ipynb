{
 "cells": [
  {
   "cell_type": "code",
   "execution_count": 1,
   "metadata": {},
   "outputs": [],
   "source": [
    "import numpy as np\n",
    "from time import time\n",
    "from matplotlib import pyplot as plt\n",
    "dimensions = 2**np.arange(6,13)"
   ]
  },
  {
   "cell_type": "code",
   "execution_count": 10,
   "metadata": {},
   "outputs": [],
   "source": [
    "def DFT(image): # Descrete Fourier Transform over the first axis\n",
    "    assert image.dtype == np.complex64\n",
    "    h, w = image.shape\n",
    "    ret = np.empty_like(image, dtype = 'complex64') # int32_t real, int32_t imag\n",
    "    yi, xi = np.indices((h, h), dtype = 'complex64')\n",
    "    matrix = np.exp(yi*xi*(np.pi * -2j / h))\n",
    "    return matrix@image\n",
    "def DFT_2D(image): # DFT over both axes, consequentially\n",
    "    return DFT(DFT(image).T).T\n"
   ]
  },
  {
   "cell_type": "code",
   "execution_count": 11,
   "metadata": {},
   "outputs": [],
   "source": [
    "from functools import lru_cache\n",
    "def FFT(image): # Cooley - Tukey Divde and Conquer. Top-Down Approach.\n",
    "    assert image.dtype == np.complex64\n",
    "    out = image.copy()\n",
    "    @lru_cache(None)\n",
    "    def get_vector(h):\n",
    "        return np.exp(np.indices((h//2,), dtype = 'complex64') * (np.pi * -2j / h)).reshape(-1,1)\n",
    "    def FFT_half_sample(out):\n",
    "        h, w = out.shape\n",
    "        if h == 1:return\n",
    "        assert h%2 == 0\n",
    "        FFT_half_sample(out[::2]) # EVEN\n",
    "        FFT_half_sample(out[1::2]) # ODD\n",
    "        vector = get_vector(h)\n",
    "        out[:h//2], out[h//2:] = out[::2] + vector * out[1::2], out[::2] - vector * out[1::2]\n",
    "    FFT_half_sample(out)\n",
    "    return out\n",
    "def FFT_2D(image):\n",
    "    return FFT(FFT(image).T).T"
   ]
  },
  {
   "cell_type": "code",
   "execution_count": 12,
   "metadata": {},
   "outputs": [],
   "source": [
    "def flip_scale(image):\n",
    "    image[1:,:] = image[-1:0:-1,:]\n",
    "    image[:,1:] = image[:,-1:0:-1]\n",
    "    image /= image.size"
   ]
  },
  {
   "cell_type": "code",
   "execution_count": 13,
   "metadata": {},
   "outputs": [],
   "source": [
    "def convolve_DFT(image1, image2):\n",
    "    Fourier = DFT_2D(image1) * DFT_2D(image2)\n",
    "    ret = DFT_2D(Fourier)\n",
    "    flip_scale(ret)\n",
    "    return ret\n",
    "def convolve_FFT(image1, image2):\n",
    "    Fourier = FFT_2D(image1) * FFT_2D(image2)\n",
    "    ret = FFT_2D(Fourier)\n",
    "    flip_scale(ret)\n",
    "    return ret"
   ]
  },
  {
   "cell_type": "code",
   "execution_count": 14,
   "metadata": {},
   "outputs": [],
   "source": [
    "def convolve(image1, image2):\n",
    "    h, w = image1.shape\n",
    "    padded = np.tile(image1,(2,2))\n",
    "    ret = np.empty_like(image1)\n",
    "    for y,row in enumerate(ret):\n",
    "        for x,c in enumerate(row):\n",
    "            ret[y,x] = (padded[y:y+h,x:x+h]*image2[::-1,::-1]).sum()\n",
    "    return ret"
   ]
  },
  {
   "cell_type": "code",
   "execution_count": 15,
   "metadata": {},
   "outputs": [],
   "source": [
    "Convolve_time = []\n",
    "DFT_time = []\n",
    "FFT_time = []\n",
    "for i,dimension in enumerate(dimensions):\n",
    "    img1 = np.random.random((dimension, dimension)).astype('complex64')\n",
    "    img2 = np.random.random((dimension, dimension)).astype('complex64')\n",
    "    t = time()\n",
    "    if i<3:\n",
    "        convolve(img1,img2) # O(d^4)!!\n",
    "        Convolve_time.append(time()-t)\n",
    "        t = time()\n",
    "    convolve_DFT(img1,img2) # O(d^3)\n",
    "    DFT_time.append(time()-t)\n",
    "    t = time()\n",
    "    convolve_FFT(img1,img2) # O(d^2(log(d)))\n",
    "    FFT_time.append(time()-t)\n",
    "    t = time()"
   ]
  },
  {
   "cell_type": "code",
   "execution_count": 445,
   "metadata": {},
   "outputs": [
    {
     "data": {
      "text/plain": [
       "<matplotlib.legend.Legend at 0x20487418588>"
      ]
     },
     "execution_count": 445,
     "metadata": {},
     "output_type": "execute_result"
    },
    {
     "data": {
      "image/png": "[encoded data removed]",
      "text/plain": [
       "<Figure size 432x288 with 1 Axes>"
      ]
     },
     "metadata": {
      "needs_background": "light"
     },
     "output_type": "display_data"
    }
   ],
   "source": [
    "plt.plot(dimensions[:len(Convolve_time)], Convolve_time, label = 'Multiplication')\n",
    "plt.plot(dimensions, DFT_time, label = 'DFT')\n",
    "plt.plot(dimensions, FFT_time, label = 'FFT')\n",
    "plt.xscale('log')\n",
    "plt.xlabel('pixel dimension')\n",
    "plt.title('convolution time (s)')\n",
    "plt.legend()"
   ]
  },
  {
   "cell_type": "code",
   "execution_count": 2,
   "metadata": {},
   "outputs": [],
   "source": [
    "import pyopencl as cl"
   ]
  },
  {
   "cell_type": "code",
   "execution_count": 3,
   "metadata": {},
   "outputs": [
    {
     "name": "stdout",
     "output_type": "stream",
     "text": [
      "[[ 5.0429553e+02 +0.j         -9.6808624e+00 +8.837265j\n",
      "   3.7989519e+00-12.115527j   ...  6.0481853e+00 -1.9407562j\n",
      "   3.7924910e+00+12.115364j   -9.6970844e+00 -8.83661j   ]\n",
      " [ 5.1440051e+02 +0.j          2.1656076e+01+19.275822j\n",
      "   3.2158127e+00 -2.1413512j  ...  4.4647688e-01 -3.551469j\n",
      "   3.2067440e+00 +2.1420872j   2.1641306e+01-19.277578j  ]\n",
      " [ 5.2050482e+02 +0.j          1.3812007e+00 -0.99677384j\n",
      "   8.9803410e+00 +0.60416687j ...  9.8574948e-01 -6.4579043j\n",
      "   8.9713669e+00 -0.6043769j   1.3675447e+00 +0.99623495j]\n",
      " ...\n",
      " [ 4.9915231e+02 +0.j          9.8328048e-01+11.548069j\n",
      "  -1.1801050e+00 -8.801401j   ...  1.1667371e+00 -0.76497376j\n",
      "  -1.1869149e+00 +8.802167j    9.6929979e-01-11.547238j  ]\n",
      " [ 5.1861157e+02 +0.j          6.7033043e+00 -8.342046j\n",
      "   4.7154613e+00 -4.576733j   ...  2.8525333e+00 -7.6906877j\n",
      "   4.7070255e+00 +4.5755267j   6.6888943e+00 +8.3414955j ]\n",
      " [ 5.2436975e+02 +0.j         -2.0042639e+00 +0.7813811j\n",
      "   1.4833081e+01 -0.27368963j ...  4.4954495e+00 +1.2598706j\n",
      "   1.4825782e+01 +0.2718632j  -2.0202341e+00 -0.78070265j]]\n",
      "[[ 3.10830772e-04+0.00000000e+00j  8.21655340e-05-8.36191583e-05j\n",
      "   6.59723474e-05-2.14020103e-05j ... -2.77864180e-03+8.89678580e-04j\n",
      "  -6.39493273e-03-1.41676298e-04j -1.61398346e-02+7.38793414e-04j]\n",
      " [ 1.69248902e-04+0.00000000e+00j  2.51088439e-05-1.75212600e-05j\n",
      "   8.86340631e-06-3.82072821e-05j ... -4.58130869e-03+8.25436927e-04j\n",
      "  -9.05986409e-03+7.74205436e-04j -1.47453990e-02-1.73914683e-03j]\n",
      " [ 6.34446915e-05+0.00000000e+00j  9.82864849e-06+1.48360026e-04j\n",
      "   3.91884459e-05+2.75553964e-05j ... -6.53403829e-03+6.26636102e-04j\n",
      "  -8.93488687e-03-2.37602165e-04j -1.36461915e-02-6.87245619e-04j]\n",
      " ...\n",
      " [ 1.28531014e-04+0.00000000e+00j -8.78491367e-05+1.01782700e-04j\n",
      "  -6.55483070e-06-1.23200588e-05j ... -2.45419657e-03+1.32234317e-03j\n",
      "  -6.81650471e-03+7.78120535e-04j -1.40685358e-02+7.28867630e-04j]\n",
      " [-1.87366400e-04+0.00000000e+00j  7.64531578e-05+2.16161990e-06j\n",
      "   3.18943551e-05-1.29942484e-05j ... -4.20270782e-03+1.40167912e-03j\n",
      "  -8.40383181e-03-1.19340376e-03j -1.43335658e-02-5.52431700e-04j]\n",
      " [-3.49930102e-04+0.00000000e+00j  9.66934326e-05+2.52775661e-05j\n",
      "  -1.91134027e-06-7.72655354e-05j ... -5.61053855e-03+7.99789083e-04j\n",
      "  -7.30133456e-03-1.74916979e-03j -1.58735367e-02+6.53142501e-04j]]\n",
      "1.6594831940612678\n"
     ]
    }
   ],
   "source": [
    "ctx = cl.Context(devices=cl.get_platforms()[0].get_devices()[:1])\n",
    "queue = cl.CommandQueue(ctx)\n",
    "mf = cl.mem_flags\n",
    "a_np = np.random.random((1024,1024)).astype('c8')\n",
    "# a_np = np.array([1,2,3,4]).astype('c8')\n",
    "a_g = cl.Buffer(ctx, mf.READ_ONLY | mf.COPY_HOST_PTR, hostbuf=a_np)\n",
    "# b_g = cl.Buffer(ctx, mf.READ_ONLY | mf.COPY_HOST_PTR, hostbuf=b_np)\n",
    "\n",
    "#complex64 x+yi\n",
    "#float2 x,y\n",
    "local_size = (1,min(1024, a_np.shape[1]))\n",
    "prg = cl.Program(ctx, f\"\"\"\n",
    "#define TPB_Y {local_size[1]}\n",
    "\"\"\"+\"\"\"\n",
    "inline float2 comp_mul(float2 a, float2 b){\n",
    "  return (float2)(a.x*b.x - a.y*b.y, a.x*b.y + a.y*b.x);\n",
    "}\n",
    "// exp(iw) = cosw + sinw*i\n",
    "inline float2 comp_exp(float2 a){\n",
    "  return (float2)(exp(a.x)) * (float2)(cos(a.y), sin(a.y));\n",
    "}\n",
    "inline float2 exp_i(float a){\n",
    "  return (float2)(cos(a), sin(a));\n",
    "}\n",
    "__kernel void DFT(__global const float2 *A, __global float2 *B){ // 1D over 1D\n",
    "  const int n = get_global_size(1);\n",
    "  const int By = get_global_id(1);\n",
    "  const int ty = get_local_id(1);\n",
    "  const int ly = get_global_size(0);\n",
    "  const int row = get_global_id(0);\n",
    "  __private float2 sum = (0, 0);\n",
    "  __local float2 shared[TPB_Y];\n",
    "  // without shared memory : (n global reads) + (1 global writes) per thread\n",
    "  // with shared memory : (n/TPB global reads) + (n/TPB global writes) per thread\n",
    "  for(int Ay = 0; Ay < n; Ay += TPB_Y){\n",
    "    if(Ay+ty<n)shared[ty] = A[n*row + Ay + ty];\n",
    "    barrier(CLK_LOCAL_MEM_FENCE); // load shared memory and synchronize\n",
    "    for(int x = Ay; x < Ay + TPB_Y; x++)sum += comp_mul(exp_i(-2*M_PI_F/n*x*By), shared[x-Ay]);\n",
    "  }\n",
    "  B[n*row + By] = sum;\n",
    "}\n",
    "__kernel void FFT_rearrange(__global const float2 *A, __global float2 *B){ // 1D(X) over 2D(Y,X)\n",
    "  const int nx = get_global_size(1);\n",
    "  const int ty = get_global_id(0);\n",
    "  const int tx = get_global_id(1);\n",
    "  private int n = nx;\n",
    "  private int dx = 0, x=tx;\n",
    "  while(n>1){\n",
    "    dx <<= 1;\n",
    "    dx += x%2;\n",
    "    x>>=1;\n",
    "    n>>=1;\n",
    "  }\n",
    "  B[nx*ty + dx] = A[nx*ty + tx];\n",
    "}\n",
    "__kernel void FFT_under_512(__global float2 *A){ // kernel size 1x512, in place\n",
    "  const int nx = get_global_size(1);\n",
    "  const int y = get_global_id(0);\n",
    "  const int x = get_global_id(1);\n",
    "  const int tx = get_local_id(1);\n",
    "  __local float2 shared[512]; // 9 recursion, 1 global read, 1 global write\n",
    "  shared[tx] = A[nx*y + x]; // global read\n",
    "  barrier(CLK_LOCAL_MEM_FENCE);\n",
    "  int odd, dx, hx;\n",
    "  float2 temp;\n",
    "  for(int i=1;i<=9;i++){\n",
    "    dx = (tx>>i)<<i;\n",
    "    odd = tx & ( 1 << (i-1) );\n",
    "    hx = (tx^dx) & (odd-1);\n",
    "    temp = shared[dx + hx] + (odd?-1:1) * comp_mul(exp_i(-2*M_PI_F/(1 << i)*hx), shared[dx + (1 << (i-1)) + hx] );\n",
    "    barrier(CLK_LOCAL_MEM_FENCE);\n",
    "    shared[tx] = temp;\n",
    "    barrier(CLK_LOCAL_MEM_FENCE);\n",
    "  }\n",
    "  A[nx*y + x] = shared[tx]; // global write\n",
    "}\n",
    "__kernel void FFT_over_512(__global const float2 *A, __global float2 *B , const int i){\n",
    "  const int nx = get_global_size(1);\n",
    "  const int y = get_global_id(0);\n",
    "  const int x = get_global_id(1);\n",
    "  int odd, dx, hx;\n",
    "  dx = (x>>i)<<i;\n",
    "  odd = x & ( 1 << (i-1) );\n",
    "  hx = (x^dx) & (odd-1);\n",
    "  B[nx * y + x] = A[dx + hx] + (odd?-1:1) * comp_mul(exp_i(-2*M_PI_F/(1 << i)*hx), A[dx + (1 << (i-1)) + hx] );\n",
    "}\n",
    "#define WP(X,Y) (X<Y?X:X-Y) //WRAP\n",
    "#define CC_BS 32 // Block size\n",
    "__kernel void cross_correlate(__global const float *A, __global const float *B, __global double *C){ // Block Size 32 x 32\n",
    "  const int y = get_global_id(0);\n",
    "  const int x = get_global_id(1);\n",
    "  const int h = get_global_size(0);\n",
    "  const int w = get_global_size(1);\n",
    "  const int ty = get_local_id(0);\n",
    "  const int tx = get_local_id(1);\n",
    "  __local float shared_A[CC_BS][CC_BS];\n",
    "  __local float shared_B[CC_BS*2][CC_BS*2];\n",
    "  double ret = 0;\n",
    "  for(int sy = 0; sy < h; sy += CC_BS)for(int sx = 0; sx < w; sx += CC_BS){\n",
    "    shared_A[ty][tx] = A[WP(sy+ty,h) * w + WP(sx+tx,w)];\n",
    "    shared_B[ty][tx] = B[WP(sy+y,h) * w + WP(sx+x,w)];\n",
    "    shared_B[ty+CC_BS][tx] = B[WP(sy+y+CC_BS,h) * w + WP(sx+x,w)];\n",
    "    shared_B[ty][tx+CC_BS] = B[WP(sy+y,h) * w + WP(sx+x+CC_BS,w)];\n",
    "    shared_B[ty+CC_BS][tx+CC_BS] = B[WP(sy+y+CC_BS,h) * w + WP(sx+x+CC_BS,w)];\n",
    "    barrier(CLK_LOCAL_MEM_FENCE);\n",
    "    for(int dy=0;dy<CC_BS;dy++)for(int dx=0;dx<CC_BS;dx++){\n",
    "      ret += (double)(shared_A[dy][dx] * shared_B[dy + ty][dx + tx]);\n",
    "      //ret += 1;\n",
    "    }\n",
    "  }\n",
    "  C[y*w + x] = ret;\n",
    "}\n",
    "\"\"\").build()\n",
    "\n",
    "res_g = cl.Buffer(ctx, mf.WRITE_ONLY, a_np.nbytes)\n",
    "knl = prg.DFT  # Use this Kernel object for repeated calls\n",
    "knl(queue, a_np.shape, local_size, a_g, res_g)\n",
    "\n",
    "res_np = np.empty_like(a_np)\n",
    "cl.enqueue_copy(queue, res_np, res_g)\n",
    "\n",
    "# Check on CPU with Numpy:\n",
    "print(res_np)\n",
    "print(res_np - np.fft.fft(a_np))\n",
    "print(np.linalg.norm(res_np - np.fft.fft(a_np)))\n",
    "# assert np.allclose(res_np, a_np + b_np)"
   ]
  },
  {
   "cell_type": "code",
   "execution_count": 4,
   "metadata": {},
   "outputs": [],
   "source": [
    "img1 = np.random.random((1024, 1024)).astype('f4')\n",
    "img2 = np.random.random((1024, 1024)).astype('f4')"
   ]
  },
  {
   "cell_type": "code",
   "execution_count": 5,
   "metadata": {},
   "outputs": [],
   "source": [
    "def GPU_conv(A,B):\n",
    "    a_g = cl.Buffer(ctx, mf.READ_ONLY | mf.COPY_HOST_PTR, hostbuf=A)\n",
    "    b_g = cl.Buffer(ctx, mf.READ_ONLY | mf.COPY_HOST_PTR, hostbuf=B)\n",
    "    C = np.empty_like(A)\n",
    "    res_g = cl.Buffer(ctx, mf.READ_WRITE, C.nbytes)\n",
    "    prg.cross_correlate(queue, A.shape, (32,32), a_g, b_g, res_g)\n",
    "    cl.enqueue_copy(queue, C, res_g)\n",
    "    return C\n",
    "def GPU_FFT(A):\n",
    "    a_np = A.astype('c8')\n",
    "    a_g = cl.Buffer(ctx, mf.READ_ONLY | mf.COPY_HOST_PTR, hostbuf=a_np)\n",
    "    res_g = cl.Buffer(ctx, mf.READ_WRITE, a_np.nbytes)\n",
    "    tmp = cl.Buffer(ctx, mf.READ_WRITE, a_np.nbytes)\n",
    "    # knl = prg.FFT_rearrange\n",
    "    prg.FFT_rearrange(queue, a_np.shape, None, a_g, res_g)\n",
    "    prg.FFT_under_512(queue, a_np.shape, (1,512), res_g)\n",
    "    i = np.array(10,dtype='i4')\n",
    "    while (1<<i) <= A.shape[0]:\n",
    "        res_g, tmp = tmp, res_g\n",
    "        prg.FFT_over_512(queue, a_np.shape, None, tmp, res_g, i)\n",
    "        i += 1\n",
    "    res_np = np.empty_like(a_np)\n",
    "    cl.enqueue_copy(queue, res_np, res_g)\n",
    "    return res_np\n",
    "\n",
    "def GPU_DFT(A):\n",
    "    a_np = A.astype('c8')\n",
    "    a_g = cl.Buffer(ctx, mf.READ_ONLY | mf.COPY_HOST_PTR, hostbuf=a_np)\n",
    "    res_g = cl.Buffer(ctx, mf.WRITE_ONLY, a_np.nbytes)\n",
    "    local_size = (1,1024)\n",
    "    prg.DFT(queue, a_np.shape, local_size, a_g, res_g)\n",
    "    res_np = np.empty_like(a_np)\n",
    "    cl.enqueue_copy(queue, res_np, res_g)\n",
    "    return res_np\n",
    "\n",
    "def GPU_FFT_2D(A):\n",
    "    return GPU_FFT(GPU_FFT(A).T).T\n",
    "def GPU_DFT_2D(A):\n",
    "    return GPU_DFT(GPU_DFT(A).T).T\n",
    "\n",
    "def GPU_conv_FFT(A,B):\n",
    "    return GPU_FFT_2D(GPU_FFT_2D(A)*GPU_FFT_2D(B))\n",
    "def GPU_conv_DFT(A,B):\n",
    "    return GPU_DFT_2D(GPU_DFT_2D(A)*GPU_DFT_2D(B))\n"
   ]
  },
  {
   "cell_type": "code",
   "execution_count": 8,
   "metadata": {},
   "outputs": [],
   "source": [
    "GPU_Convolve_time = {}\n",
    "GPU_DFT_time = {}\n",
    "GPU_FFT_time = {}\n",
    "for i,dimension in enumerate([64, 128, 256, 512, 1024, 2048, 4096, 8192]):\n",
    "    img1 = np.random.random((dimension, dimension)).astype('f4')\n",
    "    img2 = np.random.random((dimension, dimension)).astype('f4')\n",
    "    t = time()\n",
    "    if dimension<=512:\n",
    "        GPU_conv(img1,img2) # O(d^4)!!\n",
    "        GPU_Convolve_time[dimension]=(time()-t)\n",
    "        t = time()\n",
    "    if dimension>=1024 and dimension<=4096:\n",
    "        GPU_conv_DFT(img1,img2) # O(d^3)\n",
    "        GPU_DFT_time[dimension]=(time()-t)\n",
    "        t = time()\n",
    "    if dimension>=512:\n",
    "        GPU_conv_FFT(img1,img2) # O(d^2(log(d)))\n",
    "        GPU_FFT_time[dimension]=(time()-t)\n",
    "        t = time()"
   ]
  },
  {
   "cell_type": "code",
   "execution_count": 18,
   "metadata": {},
   "outputs": [],
   "source": [
    "plt.rcParams['figure.figsize'] = [18.0, 6.0]\n",
    "plt.rcParams['font.size'] = 24.0\n",
    "plt.rcParams['axes.linewidth'] = 1.8\n",
    "plt.rcParams['lines.linewidth'] = 1.8\n",
    "plt.rcParams['xtick.major.width'] = 1.8\n",
    "plt.rcParams['ytick.major.width'] = 1.8\n",
    "plt.rcParams['image.cmap'] = 'gray'"
   ]
  },
  {
   "cell_type": "code",
   "execution_count": 19,
   "metadata": {},
   "outputs": [
    {
     "data": {
      "text/plain": [
       "<matplotlib.legend.Legend at 0x1448093dfc8>"
      ]
     },
     "execution_count": 19,
     "metadata": {},
     "output_type": "execute_result"
    },
    {
     "data": {
      "image/png": "[encoded data removed]",
      "text/plain": [
       "<Figure size 1296x432 with 1 Axes>"
      ]
     },
     "metadata": {
      "needs_background": "light"
     },
     "output_type": "display_data"
    }
   ],
   "source": [
    "plt.plot(dimensions[:len(Convolve_time)], Convolve_time, label = 'Multiplication')\n",
    "plt.plot(dimensions, DFT_time, label = 'DFT')\n",
    "plt.plot(dimensions, FFT_time, label = 'FFT')\n",
    "plt.plot(list(GPU_Convolve_time.keys()),list(GPU_Convolve_time.values()), label = 'Multiplication_GPU')\n",
    "plt.plot(list(GPU_DFT_time.keys()),list(GPU_DFT_time.values()), label = 'DFT_GPU')\n",
    "plt.plot(list(GPU_FFT_time.keys()),list(GPU_FFT_time.values()), label = 'FFT_GPU')\n",
    "plt.xscale('log')\n",
    "plt.xlabel('pixel dimension')\n",
    "plt.title('convolution time (s)')\n",
    "plt.legend(loc='upper left')"
   ]
  },
  {
   "cell_type": "code",
   "execution_count": null,
   "metadata": {},
   "outputs": [
    {
     "data": {
      "text/plain": [
       "<matplotlib.legend.Legend at 0x144ad6602c8>"
      ]
     },
     "metadata": {},
     "output_type": "display_data"
    },
    {
     "data": {
      "image/png": "[encoded data removed]",
      "text/plain": [
       "<Figure size 432x288 with 1 Axes>"
      ]
     },
     "metadata": {},
     "output_type": "display_data"
    }
   ],
   "source": [
    "plt.plot(list(GPU_Convolve_time.keys()),list(GPU_Convolve_time.values()), label = 'Multiplication')\n",
    "plt.plot(list(GPU_DFT_time.keys()),list(GPU_DFT_time.values()), label = 'DFT')\n",
    "plt.plot(list(GPU_FFT_time.keys()),list(GPU_FFT_time.values()), label = 'FFT')\n",
    "plt.plot(list(GPU_Convolve_time.keys()),list(GPU_Convolve_time.values()), label = 'Multiplication')\n",
    "plt.plot(list(GPU_DFT_time.keys()),list(GPU_DFT_time.values()), label = 'DFT')\n",
    "plt.plot(list(GPU_FFT_time.keys()),list(GPU_FFT_time.values()), label = 'FFT')\n",
    "plt.xscale('log')\n",
    "plt.xlabel('pixel dimension')\n",
    "plt.title('convolution time (s)')\n",
    "plt.legend()"
   ]
  },
  {
   "cell_type": "code",
   "execution_count": 7,
   "metadata": {},
   "outputs": [],
   "source": [
    "dim = 512\n",
    "# A=np.random.random((dim,dim)).astype('f4')\n",
    "# B=np.random.random((dim,dim)).astype('f4')\n",
    "A=np.zeros((dim*2,dim*2)).astype('f4')\n",
    "B=np.zeros((dim*2,dim*2)).astype('f4')\n",
    "A[:dim,:dim]=np.indices((dim,dim))[0].astype('f4')\n",
    "B[:dim,:dim]=np.indices((dim,dim))[0].astype('f4')\n",
    "C=np.zeros((dim*2,dim*2)).astype('f8')"
   ]
  },
  {
   "cell_type": "code",
   "execution_count": 8,
   "metadata": {},
   "outputs": [
    {
     "name": "stdout",
     "output_type": "stream",
     "text": [
      "[[2.28371990e+10 2.27891517e+10 2.27473958e+10 ... 2.27054301e+10\n",
      "  2.27486606e+10 2.27938568e+10]\n",
      " [2.27702135e+10 2.27233963e+10 2.26804492e+10 ... 2.26390170e+10\n",
      "  2.26824634e+10 2.27270070e+10]\n",
      " [2.27029674e+10 2.26567967e+10 2.26142500e+10 ... 2.25724321e+10\n",
      "  2.26157445e+10 2.26601577e+10]\n",
      " ...\n",
      " [2.26359552e+10 2.25839540e+10 2.25499019e+10 ... 2.25058235e+10\n",
      "  2.25496634e+10 2.25944755e+10]\n",
      " [2.27029221e+10 2.26507754e+10 2.26166183e+10 ... 2.25724072e+10\n",
      "  2.26163771e+10 2.26613213e+10]\n",
      " [2.27698900e+10 2.27175978e+10 2.26833358e+10 ... 2.26389918e+10\n",
      "  2.26830918e+10 2.27281682e+10]]\n"
     ]
    }
   ],
   "source": [
    "a_g = cl.Buffer(ctx, mf.READ_ONLY | mf.COPY_HOST_PTR, hostbuf=A)\n",
    "b_g = cl.Buffer(ctx, mf.READ_ONLY | mf.COPY_HOST_PTR, hostbuf=B)\n",
    "res_g = cl.Buffer(ctx, mf.READ_WRITE, C.nbytes)\n",
    "prg.cross_correlate(queue, A.shape, (32,32), a_g, b_g, res_g)\n",
    "cl.enqueue_copy(queue, C, res_g)\n",
    "print(C)"
   ]
  },
  {
   "cell_type": "code",
   "execution_count": 335,
   "metadata": {},
   "outputs": [
    {
     "data": {
      "text/plain": [
       "254.45062255859375"
      ]
     },
     "execution_count": 335,
     "metadata": {},
     "output_type": "execute_result"
    }
   ],
   "source": [
    "(A*B).mean() * A.size"
   ]
  },
  {
   "cell_type": "code",
   "execution_count": 419,
   "metadata": {},
   "outputs": [
    {
     "data": {
      "text/plain": [
       "array([[5249664., 5166336., 5083008., ..., 5166336., 5249664., 5332992.],\n",
       "       [5122719., 5041406., 4960093., ..., 5041406., 5122719., 5204032.],\n",
       "       [4995900., 4916600., 4837300., ..., 4916600., 4995900., 5075200.],\n",
       "       ...,\n",
       "       [5122719., 5041406., 4960093., ..., 5041406., 5122719., 5204032.],\n",
       "       [5249664., 5166336., 5083008., ..., 5166336., 5249664., 5332992.],\n",
       "       [5376672., 5291328., 5205984., ..., 5291328., 5376672., 5462016.]],\n",
       "      dtype=float32)"
      ]
     },
     "execution_count": 419,
     "metadata": {},
     "output_type": "execute_result"
    }
   ],
   "source": [
    "from scipy.signal import convolve2d, correlate2d\n",
    "correlate2d(A,np.fft.fftshift(B),mode='same', boundary = 'wrap')"
   ]
  },
  {
   "cell_type": "code",
   "execution_count": null,
   "metadata": {},
   "outputs": [
    {
     "name": "stdout",
     "output_type": "stream",
     "text": [
      "10\n",
      "11\n",
      "12\n",
      "[[2055.6172   +0.j         -24.389812-15.092072j   -10.494537 +2.5215156j\n",
      "  ...    4.599781 +6.744068j   -10.494541 -2.5215135j\n",
      "   -24.389801+15.092085j ]\n",
      " [2055.6172   +0.j         -24.389812-15.092072j   -10.494537 +2.5215156j\n",
      "  ...    4.599781 +6.744068j   -10.494541 -2.5215135j\n",
      "   -24.389801+15.092085j ]\n",
      " [2055.6172   +0.j         -24.389812-15.092072j   -10.494537 +2.5215156j\n",
      "  ...    4.599781 +6.744068j   -10.494541 -2.5215135j\n",
      "   -24.389801+15.092085j ]\n",
      " ...\n",
      " [2055.6172   +0.j         -24.389812-15.092072j   -10.494537 +2.5215156j\n",
      "  ...    4.599781 +6.744068j   -10.494541 -2.5215135j\n",
      "   -24.389801+15.092085j ]\n",
      " [2055.6172   +0.j         -24.389812-15.092072j   -10.494537 +2.5215156j\n",
      "  ...    4.599781 +6.744068j   -10.494541 -2.5215135j\n",
      "   -24.389801+15.092085j ]\n",
      " [2055.6172   +0.j         -24.389812-15.092072j   -10.494537 +2.5215156j\n",
      "  ...    4.599781 +6.744068j   -10.494541 -2.5215135j\n",
      "   -24.389801+15.092085j ]]\n",
      "[[-7.61536312e-05+0.00000000e+00j  2.71615903e-08+1.32130968e-06j\n",
      "   2.00023118e-06+2.75857553e-06j ... -1.53485939e-06+2.28126688e-07j\n",
      "  -1.81446608e-06-6.12808313e-07j  1.14712534e-05+1.20301308e-05j]\n",
      " [ 6.74232512e+00+0.00000000e+00j -4.27980316e+01-1.34851897e+01j\n",
      "  -2.25795257e-01+3.64559010e+01j ... -7.66856067e+00+5.67426190e+00j\n",
      "  -2.25799072e-01-3.64558988e+01j -4.27980201e+01+1.34852030e+01j]\n",
      " [ 1.42321974e+01+0.00000000e+00j -3.44320543e+01-1.06894197e+01j\n",
      "  -2.57816613e+00-2.14097867e+01j ...  1.16646512e+01+2.60138702e+01j\n",
      "  -2.57816995e+00+2.14097889e+01j -3.44320429e+01+1.06894330e+01j]\n",
      " ...\n",
      " [ 9.82693375e+00+0.00000000e+00j -3.20886202e+01-7.01934560e+00j\n",
      "   2.33621233e+00+3.50909040e+00j ...  1.07086448e+01+3.68642814e+00j\n",
      "   2.33620852e+00-3.50908826e+00j -3.20886088e+01+7.01935895e+00j]\n",
      " [ 1.58487708e+01+0.00000000e+00j -1.58788386e+01-1.68741724e+01j\n",
      "  -1.02432272e+01+4.26714778e+00j ...  7.32768248e+00+7.30617844e+00j\n",
      "  -1.02432310e+01-4.26714564e+00j -1.58788271e+01+1.68741858e+01j]\n",
      " [ 5.35627210e+00+0.00000000e+00j -4.71292271e+00+2.79987901e+00j\n",
      "  -2.99007687e+01-1.13506302e+01j ...  1.05084306e+01+3.22212327e+00j\n",
      "  -2.99007725e+01+1.13506324e+01j -4.71291127e+00-2.79986566e+00j]]\n",
      "107118.90815439388\n"
     ]
    }
   ],
   "source": [
    "dimension = 4096\n",
    "# ind_np = np.indices((dimension,dimension),dtype = 'c8')\n",
    "a_np = np.random.random((dimension,dimension)).astype('c8')\n",
    "a_g = cl.Buffer(ctx, mf.READ_ONLY | mf.COPY_HOST_PTR, hostbuf=a_np)\n",
    "res_g = cl.Buffer(ctx, mf.READ_WRITE, a_np.nbytes)\n",
    "tmp = cl.Buffer(ctx, mf.READ_WRITE, a_np.nbytes)\n",
    "# knl = prg.FFT_rearrange\n",
    "prg.FFT_rearrange(queue, a_np.shape, None, a_g, res_g)\n",
    "prg.FFT_under_512(queue, a_np.shape, (1,512), res_g)\n",
    "i = np.array(10,dtype='i4')\n",
    "while (1<<i) <= dimension:\n",
    "    res_g, tmp = tmp, res_g\n",
    "    print(i)\n",
    "    prg.FFT_over_512(queue, a_np.shape, None, tmp, res_g, i)\n",
    "    i += 1\n",
    "res_np = np.empty_like(a_np)\n",
    "cl.enqueue_copy(queue, res_np, res_g)\n",
    "\n",
    "print(res_np)\n",
    "print(res_np - np.fft.fft(a_np))\n",
    "print(np.linalg.norm(res_np - np.fft.fft(a_np)))"
   ]
  },
  {
   "cell_type": "code",
   "execution_count": 252,
   "metadata": {},
   "outputs": [
    {
     "data": {
      "text/plain": [
       "array([-7.61536312e-05+0.00000000e+00j,  2.71615903e-08+1.32130968e-06j,\n",
       "        2.00023118e-06+2.75857553e-06j, -1.53485939e-06-1.18180101e-06j,\n",
       "        1.49343737e-07+9.51850613e-07j])"
      ]
     },
     "execution_count": 252,
     "metadata": {},
     "output_type": "execute_result"
    }
   ],
   "source": [
    "(res_np - np.fft.fft(a_np))[0,:5]"
   ]
  },
  {
   "cell_type": "code",
   "execution_count": 257,
   "metadata": {},
   "outputs": [
    {
     "data": {
      "text/plain": [
       "(10, 10)"
      ]
     },
     "execution_count": 257,
     "metadata": {},
     "output_type": "execute_result"
    }
   ],
   "source": [
    "C.shape"
   ]
  },
  {
   "cell_type": "code",
   "execution_count": 254,
   "metadata": {},
   "outputs": [],
   "source": [
    "from scipy.signal import convolve"
   ]
  },
  {
   "cell_type": "code",
   "execution_count": 260,
   "metadata": {},
   "outputs": [],
   "source": [
    "for i in range(10):\n",
    "    C[i,:] = convolve(A[i,:],B[i,:],mode='valid')\n",
    "for i in range(10):\n",
    "    C[:,i] = convolve(A[:,i],B[:,i],mode='valid')"
   ]
  },
  {
   "cell_type": "code",
   "execution_count": 262,
   "metadata": {},
   "outputs": [
    {
     "data": {
      "text/plain": [
       "array([[-23.88360946, -22.99046095, -23.22177725, -23.93576272,\n",
       "        -23.86824183, -23.45232214, -23.2627074 , -23.92577286,\n",
       "        -22.84184517, -23.47553063],\n",
       "       [-23.88360946, -22.99046095, -23.22177725, -23.93576272,\n",
       "        -23.86824183, -23.45232214, -23.2627074 , -23.92577286,\n",
       "        -22.84184517, -23.47553063],\n",
       "       [-23.88360946, -22.99046095, -23.22177725, -23.93576272,\n",
       "        -23.86824183, -23.45232214, -23.2627074 , -23.92577286,\n",
       "        -22.84184517, -23.47553063],\n",
       "       [-23.88360946, -22.99046095, -23.22177725, -23.93576272,\n",
       "        -23.86824183, -23.45232214, -23.2627074 , -23.92577286,\n",
       "        -22.84184517, -23.47553063],\n",
       "       [-23.88360946, -22.99046095, -23.22177725, -23.93576272,\n",
       "        -23.86824183, -23.45232214, -23.2627074 , -23.92577286,\n",
       "        -22.84184517, -23.47553063],\n",
       "       [-23.88360946, -22.99046095, -23.22177725, -23.93576272,\n",
       "        -23.86824183, -23.45232214, -23.2627074 , -23.92577286,\n",
       "        -22.84184517, -23.47553063],\n",
       "       [-23.88360946, -22.99046095, -23.22177725, -23.93576272,\n",
       "        -23.86824183, -23.45232214, -23.2627074 , -23.92577286,\n",
       "        -22.84184517, -23.47553063],\n",
       "       [-23.88360946, -22.99046095, -23.22177725, -23.93576272,\n",
       "        -23.86824183, -23.45232214, -23.2627074 , -23.92577286,\n",
       "        -22.84184517, -23.47553063],\n",
       "       [-23.88360946, -22.99046095, -23.22177725, -23.93576272,\n",
       "        -23.86824183, -23.45232214, -23.2627074 , -23.92577286,\n",
       "        -22.84184517, -23.47553063],\n",
       "       [-23.88360946, -22.99046095, -23.22177725, -23.93576272,\n",
       "        -23.86824183, -23.45232214, -23.2627074 , -23.92577286,\n",
       "        -22.84184517, -23.47553063]])"
      ]
     },
     "execution_count": 262,
     "metadata": {},
     "output_type": "execute_result"
    }
   ],
   "source": [
    "C-convolve(A,B,mode='valid')"
   ]
  },
  {
   "cell_type": "code",
   "execution_count": 250,
   "metadata": {},
   "outputs": [
    {
     "data": {
      "text/plain": [
       "array([2055.6172   +0.j       ,  -24.389812-15.092072j ,\n",
       "        -10.494537 +2.5215156j,    4.599781 -6.744069j ,\n",
       "        -14.798006 -4.0356297j], dtype=complex64)"
      ]
     },
     "execution_count": 250,
     "metadata": {},
     "output_type": "execute_result"
    }
   ],
   "source": [
    "res_np[0,:5]"
   ]
  },
  {
   "cell_type": "code",
   "execution_count": 251,
   "metadata": {},
   "outputs": [
    {
     "data": {
      "text/plain": [
       "array([2055.61726365 +0.j        ,  -24.3898125 -15.09207285j,\n",
       "        -10.49453935 +2.52151285j,    4.59978257 -6.74406792j,\n",
       "        -14.79800621 -4.0356307j ])"
      ]
     },
     "execution_count": 251,
     "metadata": {},
     "output_type": "execute_result"
    }
   ],
   "source": [
    "np.fft.fft(a_np)[0,:5]"
   ]
  },
  {
   "cell_type": "code",
   "execution_count": 231,
   "metadata": {},
   "outputs": [
    {
     "data": {
      "text/plain": [
       "()"
      ]
     },
     "execution_count": 231,
     "metadata": {},
     "output_type": "execute_result"
    }
   ],
   "source": [
    "np.array(10).shape"
   ]
  },
  {
   "cell_type": "code",
   "execution_count": 233,
   "metadata": {},
   "outputs": [
    {
     "data": {
      "text/plain": [
       "array([ 267012.44-2048.0645j,  296681.5 -2048.1084j,\n",
       "        333767.94-2048.079j ,  381450.2 -2048.1038j,\n",
       "        445026.38-2048.1667j,  534032.75-2048.1465j,\n",
       "        667542.1 -2048.1814j,  890057.5 -2048.3665j,\n",
       "       1335087.4 -2048.4153j, 2670176.2 -2048.9414j], dtype=complex64)"
      ]
     },
     "execution_count": 233,
     "metadata": {},
     "output_type": "execute_result"
    }
   ],
   "source": [
    "res_np[0,-10:]"
   ]
  },
  {
   "cell_type": "code",
   "execution_count": 235,
   "metadata": {},
   "outputs": [
    {
     "data": {
      "text/plain": [
       "array([       0.  +8.3865600e+06j, -2670175.8 -2.0478828e+03j,\n",
       "       -1335087.1 -2.0479413e+03j,  -890057.4 -2.0480000e+03j,\n",
       "        -667542.  -2.0479705e+03j,  -534032.6 -2.0478972e+03j,\n",
       "        -445026.3 -2.0480000e+03j,  -381450.  -2.0479280e+03j,\n",
       "        -333767.88-2.0479851e+03j,  -296681.62-2.0480061e+03j],\n",
       "      dtype=complex64)"
      ]
     },
     "execution_count": 235,
     "metadata": {},
     "output_type": "execute_result"
    }
   ],
   "source": [
    "res_np[0,:10]"
   ]
  },
  {
   "cell_type": "code",
   "execution_count": null,
   "metadata": {},
   "outputs": [
    {
     "data": {
      "text/plain": [
       "array([0.  +0.j, 0.+256.j, 0.+128.j, 0.+384.j, 0. +64.j, 0.+320.j,\n",
       "       0.+192.j, 0.+448.j, 0. +32.j, 0.+288.j], dtype=complex64)"
      ]
     },
     "metadata": {},
     "output_type": "display_data"
    }
   ],
   "source": [
    "res_np[0,:10]"
   ]
  },
  {
   "cell_type": "code",
   "execution_count": 185,
   "metadata": {},
   "outputs": [
    {
     "data": {
      "text/plain": [
       "array([0.+0.j, 0.+1.j, 0.+2.j, 0.+3.j, 0.+4.j, 0.+5.j, 0.+6.j, 0.+7.j,\n",
       "       0.+8.j, 0.+9.j], dtype=complex64)"
      ]
     },
     "execution_count": 185,
     "metadata": {},
     "output_type": "execute_result"
    }
   ],
   "source": [
    "ind_np[0,:10]"
   ]
  },
  {
   "cell_type": "code",
   "execution_count": 178,
   "metadata": {},
   "outputs": [
    {
     "data": {
      "text/plain": [
       "130816j"
      ]
     },
     "execution_count": 178,
     "metadata": {},
     "output_type": "execute_result"
    }
   ],
   "source": [
    "ind_np[0].sum()"
   ]
  },
  {
   "cell_type": "code",
   "execution_count": 234,
   "metadata": {},
   "outputs": [
    {
     "data": {
      "text/plain": [
       "array([       0.        +8.38656e+06j, -2670176.33412164-2.04800e+03j,\n",
       "       -1335087.3816625 -2.04800e+03j,  -890057.3817766 -2.04800e+03j,\n",
       "        -667542.12003369-2.04800e+03j,  -534032.75354764-2.04800e+03j,\n",
       "        -445026.33468965-2.04800e+03j,  -381450.17161873-2.04800e+03j,\n",
       "        -333767.91841434-2.04800e+03j,  -296681.60512054-2.04800e+03j])"
      ]
     },
     "execution_count": 234,
     "metadata": {},
     "output_type": "execute_result"
    }
   ],
   "source": [
    "np.fft.fft(ind_np[0,:])[:10]"
   ]
  },
  {
   "cell_type": "code",
   "execution_count": 201,
   "metadata": {},
   "outputs": [
    {
     "data": {
      "text/plain": [
       "array([ 4166.91403774-256.j,  4631.010364  -256.j,  5210.999712  -256.j,\n",
       "        5956.55055798-256.j,  6950.44369042-256.j,  8341.68452221-256.j,\n",
       "       10428.28387125-256.j, 13905.60030215-256.j, 20859.70949288-256.j,\n",
       "       41720.98980179-256.j])"
      ]
     },
     "execution_count": 201,
     "metadata": {},
     "output_type": "execute_result"
    }
   ],
   "source": [
    "np.fft.fft(ind_np[0,:])[-10:]"
   ]
  },
  {
   "cell_type": "code",
   "execution_count": 194,
   "metadata": {},
   "outputs": [
    {
     "data": {
      "text/plain": [
       "array([0.  +0.j, 0.+256.j, 0.+128.j, 0.+384.j, 0. +64.j, 0.+320.j,\n",
       "       0.+192.j, 0.+448.j, 0. +32.j, 0.+288.j], dtype=complex64)"
      ]
     },
     "execution_count": 194,
     "metadata": {},
     "output_type": "execute_result"
    }
   ],
   "source": [
    "res_np[0,:10]"
   ]
  },
  {
   "cell_type": "code",
   "execution_count": 165,
   "metadata": {},
   "outputs": [
    {
     "data": {
      "text/plain": [
       "array([[  0., 256., 128., ..., 383., 255., 511.],\n",
       "       [  0., 256., 128., ..., 383., 255., 511.],\n",
       "       [  0., 256., 128., ..., 383., 255., 511.],\n",
       "       ...,\n",
       "       [  0., 256., 128., ..., 383., 255., 511.],\n",
       "       [  0., 256., 128., ..., 383., 255., 511.],\n",
       "       [  0., 256., 128., ..., 383., 255., 511.]], dtype=float32)"
      ]
     },
     "execution_count": 165,
     "metadata": {},
     "output_type": "execute_result"
    }
   ],
   "source": [
    "res_np.imag"
   ]
  },
  {
   "cell_type": "code",
   "execution_count": 151,
   "metadata": {},
   "outputs": [
    {
     "data": {
      "text/plain": [
       "'0b110000000'"
      ]
     },
     "execution_count": 151,
     "metadata": {},
     "output_type": "execute_result"
    }
   ],
   "source": [
    "bin(384)"
   ]
  },
  {
   "cell_type": "code",
   "execution_count": 105,
   "metadata": {},
   "outputs": [
    {
     "data": {
      "text/plain": [
       "array([0.27541804+0.j, 0.6056611 +0.j, 0.5837389 +0.j, ...,\n",
       "       0.4348739 +0.j, 0.05950231+0.j, 0.07527219+0.j], dtype=complex64)"
      ]
     },
     "execution_count": 105,
     "metadata": {},
     "output_type": "execute_result"
    }
   ],
   "source": [
    "a_np"
   ]
  },
  {
   "cell_type": "code",
   "execution_count": 100,
   "metadata": {},
   "outputs": [
    {
     "data": {
      "text/plain": [
       "(0.38268330477574136-0.9238795221669254j)"
      ]
     },
     "execution_count": 100,
     "metadata": {},
     "output_type": "execute_result"
    }
   ],
   "source": [
    "(0.9238795-0.38268346j )**(3)"
   ]
  },
  {
   "cell_type": "code",
   "execution_count": 132,
   "metadata": {},
   "outputs": [
    {
     "data": {
      "text/plain": [
       "array([1038.50786119 +0.j        ,   -1.97613433-13.11922541j,\n",
       "          7.19724864 -2.79116965j, ...,    6.67672473 +2.26078355j,\n",
       "          7.19724864 +2.79116965j,   -1.97613433+13.11922541j])"
      ]
     },
     "execution_count": 132,
     "metadata": {},
     "output_type": "execute_result"
    }
   ],
   "source": [
    "np.fft.fft(a_np)"
   ]
  },
  {
   "cell_type": "code",
   "execution_count": 4,
   "metadata": {},
   "outputs": [
    {
     "ename": "RuntimeError",
     "evalue": "clBuildProgram failed: BUILD_PROGRAM_FAILURE - clBuildProgram failed: BUILD_PROGRAM_FAILURE - clBuildProgram failed: BUILD_PROGRAM_FAILURE\n\nBuild on <pyopencl.Device 'GeForce RTX 2080 SUPER' on 'NVIDIA CUDA' at 0x2333222f760>:\n\n<kernel>:13:25: warning: expression result unused\n  private float2 sum = (0, 0);\n                        ^\n<kernel>:16:32: warning: expression result unused\n  A_block[TPB_X * ty + tx] = A[Ay, tx];\n                               ^~\n<kernel>:17:32: warning: expression result unused\n  B_block[TPB_X * tx + ty] = B[ty, Bx];\n                               ^~\n<kernel>:18:32: error: expected ';' after expression\n  barrier(CLK_GLOBAL_MEM_FENCE) // load shared memory and synchronize\n                               ^\n                               ;\n<kernel>:19:69: error: too few arguments to function call, expected 2, have 1\n  for(int y=0;y<ty;y++)for(int x=0;x<tx;x++)sum+=compmul(A_block[ty])\n                                                 ~~~~~~~            ^\n<kernel>:5:1: note: 'compmul' declared here\ninline float2 compmul(float2 a, float2 b){\n^\n\n(options: -I c:\\Users\\Faki\\Anaconda3\\lib\\site-packages\\pyopencl\\cl)\n(source saved as C:\\Users\\Faki\\AppData\\Local\\Temp\\tmpyd90jbcp.cl)",
     "output_type": "error",
     "traceback": [
      "\u001b[1;31m---------------------------------------------------------------------------\u001b[0m",
      "\u001b[1;31mRuntimeError\u001b[0m                              Traceback (most recent call last)",
      "\u001b[1;32m<ipython-input-4-fab24f619a87>\u001b[0m in \u001b[0;36m<module>\u001b[1;34m\u001b[0m\n\u001b[0;32m     38\u001b[0m   \u001b[0mres_g\u001b[0m\u001b[1;33m[\u001b[0m\u001b[0mgid\u001b[0m\u001b[1;33m]\u001b[0m \u001b[1;33m=\u001b[0m \u001b[0ma_g\u001b[0m\u001b[1;33m[\u001b[0m\u001b[0mgid\u001b[0m\u001b[1;33m]\u001b[0m \u001b[1;33m+\u001b[0m \u001b[0mb_g\u001b[0m\u001b[1;33m[\u001b[0m\u001b[0mgid\u001b[0m\u001b[1;33m]\u001b[0m\u001b[1;33m;\u001b[0m\u001b[1;33m\u001b[0m\u001b[1;33m\u001b[0m\u001b[0m\n\u001b[0;32m     39\u001b[0m }\n\u001b[1;32m---> 40\u001b[1;33m \"\"\").build()\n\u001b[0m\u001b[0;32m     41\u001b[0m \u001b[1;33m\u001b[0m\u001b[0m\n\u001b[0;32m     42\u001b[0m \u001b[0mres_g\u001b[0m \u001b[1;33m=\u001b[0m \u001b[0mcl\u001b[0m\u001b[1;33m.\u001b[0m\u001b[0mBuffer\u001b[0m\u001b[1;33m(\u001b[0m\u001b[0mctx\u001b[0m\u001b[1;33m,\u001b[0m \u001b[0mmf\u001b[0m\u001b[1;33m.\u001b[0m\u001b[0mWRITE_ONLY\u001b[0m\u001b[1;33m,\u001b[0m \u001b[0ma_np\u001b[0m\u001b[1;33m.\u001b[0m\u001b[0mnbytes\u001b[0m\u001b[1;33m)\u001b[0m\u001b[1;33m\u001b[0m\u001b[1;33m\u001b[0m\u001b[0m\n",
      "\u001b[1;32mc:\\Users\\Faki\\Anaconda3\\lib\\site-packages\\pyopencl\\__init__.py\u001b[0m in \u001b[0;36mbuild\u001b[1;34m(self, options, devices, cache_dir)\u001b[0m\n\u001b[0;32m    538\u001b[0m                         \u001b[0mself\u001b[0m\u001b[1;33m.\u001b[0m\u001b[0m_context\u001b[0m\u001b[1;33m,\u001b[0m \u001b[0mself\u001b[0m\u001b[1;33m.\u001b[0m\u001b[0m_source\u001b[0m\u001b[1;33m,\u001b[0m \u001b[0moptions_bytes\u001b[0m\u001b[1;33m,\u001b[0m \u001b[0mdevices\u001b[0m\u001b[1;33m,\u001b[0m\u001b[1;33m\u001b[0m\u001b[1;33m\u001b[0m\u001b[0m\n\u001b[0;32m    539\u001b[0m                         cache_dir=cache_dir, include_path=include_path),\n\u001b[1;32m--> 540\u001b[1;33m                     options_bytes=options_bytes, source=self._source)\n\u001b[0m\u001b[0;32m    541\u001b[0m \u001b[1;33m\u001b[0m\u001b[0m\n\u001b[0;32m    542\u001b[0m             \u001b[1;32mif\u001b[0m \u001b[0mwas_cached\u001b[0m\u001b[1;33m:\u001b[0m\u001b[1;33m\u001b[0m\u001b[1;33m\u001b[0m\u001b[0m\n",
      "\u001b[1;32mc:\\Users\\Faki\\Anaconda3\\lib\\site-packages\\pyopencl\\__init__.py\u001b[0m in \u001b[0;36m_build_and_catch_errors\u001b[1;34m(self, build_func, options_bytes, source)\u001b[0m\n\u001b[0;32m    582\u001b[0m         \u001b[1;31m# Python 3.2 outputs the whole list of currently active exceptions\u001b[0m\u001b[1;33m\u001b[0m\u001b[1;33m\u001b[0m\u001b[1;33m\u001b[0m\u001b[0m\n\u001b[0;32m    583\u001b[0m         \u001b[1;31m# This serves to remove one (redundant) level from that nesting.\u001b[0m\u001b[1;33m\u001b[0m\u001b[1;33m\u001b[0m\u001b[1;33m\u001b[0m\u001b[0m\n\u001b[1;32m--> 584\u001b[1;33m         \u001b[1;32mraise\u001b[0m \u001b[0merr\u001b[0m\u001b[1;33m\u001b[0m\u001b[1;33m\u001b[0m\u001b[0m\n\u001b[0m\u001b[0;32m    585\u001b[0m \u001b[1;33m\u001b[0m\u001b[0m\n\u001b[0;32m    586\u001b[0m     \u001b[1;31m# }}}\u001b[0m\u001b[1;33m\u001b[0m\u001b[1;33m\u001b[0m\u001b[1;33m\u001b[0m\u001b[0m\n",
      "\u001b[1;31mRuntimeError\u001b[0m: clBuildProgram failed: BUILD_PROGRAM_FAILURE - clBuildProgram failed: BUILD_PROGRAM_FAILURE - clBuildProgram failed: BUILD_PROGRAM_FAILURE\n\nBuild on <pyopencl.Device 'GeForce RTX 2080 SUPER' on 'NVIDIA CUDA' at 0x2333222f760>:\n\n<kernel>:13:25: warning: expression result unused\n  private float2 sum = (0, 0);\n                        ^\n<kernel>:16:32: warning: expression result unused\n  A_block[TPB_X * ty + tx] = A[Ay, tx];\n                               ^~\n<kernel>:17:32: warning: expression result unused\n  B_block[TPB_X * tx + ty] = B[ty, Bx];\n                               ^~\n<kernel>:18:32: error: expected ';' after expression\n  barrier(CLK_GLOBAL_MEM_FENCE) // load shared memory and synchronize\n                               ^\n                               ;\n<kernel>:19:69: error: too few arguments to function call, expected 2, have 1\n  for(int y=0;y<ty;y++)for(int x=0;x<tx;x++)sum+=compmul(A_block[ty])\n                                                 ~~~~~~~            ^\n<kernel>:5:1: note: 'compmul' declared here\ninline float2 compmul(float2 a, float2 b){\n^\n\n(options: -I c:\\Users\\Faki\\Anaconda3\\lib\\site-packages\\pyopencl\\cl)\n(source saved as C:\\Users\\Faki\\AppData\\Local\\Temp\\tmpyd90jbcp.cl)"
     ]
    }
   ],
   "source": [
    "ctx = cl.Context(devices=cl.get_platforms()[0].get_devices()[:1])\n",
    "queue = cl.CommandQueue(ctx)\n",
    "mf = cl.mem_flags\n",
    "a_g = cl.Buffer(ctx, mf.READ_ONLY | mf.COPY_HOST_PTR, hostbuf=a_np)\n",
    "# b_g = cl.Buffer(ctx, mf.READ_ONLY | mf.COPY_HOST_PTR, hostbuf=b_np)\n",
    "\n",
    "#complex64 x+yi\n",
    "#float2 x,y\n",
    "local_size = (32,32)\n",
    "prg = cl.Program(ctx, f\"\"\"\n",
    "#define TPB_X {local_size[0]}\n",
    "#define TPB_Y {local_size[1]}\n",
    "\"\"\"+\"\"\"\n",
    "inline float2 compmul(float2 a, float2 b){\n",
    "  return (float2)(a.x*b.x - a.y*b.y, a.x*b.y + a.y*b.x);\n",
    "}\n",
    "__kernel void matmul(__global const float2 *A, __global const float2 *B, __global const float2 *C){\n",
    "  const int Ay = get_global_id(0);\n",
    "  const int Bx = get_global_id(1);\n",
    "  const int ty = get_local_id(0);\n",
    "  const int tx = get_local_id(1);\n",
    "  private float2 sum = (0, 0);\n",
    "  local float2 A_block[TPB_X * TPB_Y];\n",
    "  local float2 B_block[TPB_X * TPB_Y];\n",
    "  A_block[TPB_X * ty + tx] = A[Ay, tx];\n",
    "  B_block[TPB_X * tx + ty] = B[ty, Bx];\n",
    "  barrier(CLK_GLOBAL_MEM_FENCE) // load shared memory and synchronize\n",
    "  for(int y=0;y<ty;y++)for(int x=0;x<tx;x++)sum+=compmul(A_block[ty])\n",
    "\n",
    "\n",
    "}\n",
    "\n",
    "\n",
    "__kernel void sum(\n",
    "    __global const float *a_g, __global const float *b_g, __global float *res_g)\n",
    "{\n",
    "  int gid = get_global_id(0);\n",
    "  res_g[gid] = a_g[gid] + b_g[gid];\n",
    "}\n",
    "\"\"\").build()\n",
    "\n",
    "res_g = cl.Buffer(ctx, mf.WRITE_ONLY, a_np.nbytes)\n",
    "knl = prg.sum  # Use this Kernel object for repeated calls\n",
    "knl(queue, a_np.shape, None, a_g, b_g, res_g)\n",
    "\n",
    "res_np = np.empty_like(a_np)\n",
    "cl.enqueue_copy(queue, res_np, res_g)\n",
    "\n",
    "# Check on CPU with Numpy:\n",
    "print(res_np - (a_np + b_np))\n",
    "print(np.linalg.norm(res_np - (a_np + b_np)))\n",
    "assert np.allclose(res_np, a_np + b_np)"
   ]
  },
  {
   "cell_type": "code",
   "execution_count": 5,
   "metadata": {},
   "outputs": [
    {
     "name": "stdout",
     "output_type": "stream",
     "text": [
      "[0.+0.j 0.+0.j 0.+0.j ... 0.+0.j 0.+0.j 0.+0.j]\n",
      "0.0\n"
     ]
    }
   ],
   "source": [
    "a_np = np.random.rand(50000).astype('c8')*(1+1j)\n",
    "b_np = np.random.rand(50000).astype('c8')\n",
    "\n",
    "ctx = cl.create_some_context()\n",
    "queue = cl.CommandQueue(ctx)\n",
    "\n",
    "mf = cl.mem_flags\n",
    "a_g = cl.Buffer(ctx, mf.READ_ONLY | mf.COPY_HOST_PTR, hostbuf=a_np)\n",
    "b_g = cl.Buffer(ctx, mf.READ_ONLY | mf.COPY_HOST_PTR, hostbuf=b_np)\n",
    "\n",
    "prg = cl.Program(ctx, \"\"\"\n",
    "inline float2 compmul(float2 a, float2 b){\n",
    "  return (float2)(a.x*b.x - a.y*b.y, a.x*b.y + a.y*b.x);\n",
    "}\n",
    "__kernel void sum(\n",
    "    __global const float2 *a_g, __global const float2 *b_g, __global float2 *res_g)\n",
    "{\n",
    "  int gid = get_global_id(0);\n",
    "  res_g[gid] = compmul(a_g[gid], b_g[gid]);\n",
    "}\n",
    "\"\"\").build()\n",
    "\n",
    "res_g = cl.Buffer(ctx, mf.WRITE_ONLY, a_np.nbytes)\n",
    "knl = prg.sum  # Use this Kernel object for repeated calls\n",
    "knl(queue, a_np.shape, None, a_g, b_g, res_g)\n",
    "\n",
    "res_np = np.empty_like(a_np)\n",
    "cl.enqueue_copy(queue, res_np, res_g)\n",
    "\n",
    "# Check on CPU with Numpy:\n",
    "print(res_np - (a_np * b_np))\n",
    "print(np.linalg.norm(res_np - (a_np * b_np)))\n",
    "assert np.allclose(res_np, a_np * b_np)"
   ]
  },
  {
   "cell_type": "code",
   "execution_count": 54,
   "metadata": {},
   "outputs": [
    {
     "data": {
      "text/plain": [
       "array([0.+0.8155622j , 0.+0.5304822j , 0.+0.5484743j , ...,\n",
       "       0.+0.2845743j , 0.+0.6207339j , 0.+0.00686155j], dtype=complex64)"
      ]
     },
     "execution_count": 54,
     "metadata": {},
     "output_type": "execute_result"
    }
   ],
   "source": [
    "a_np"
   ]
  },
  {
   "cell_type": "code",
   "execution_count": 55,
   "metadata": {},
   "outputs": [
    {
     "data": {
      "text/plain": [
       "array([0.8155622 +0.8155622j , 0.5304822 +0.5304822j ,\n",
       "       0.5484743 +0.5484743j , ..., 0.2845743 +0.2845743j ,\n",
       "       0.6207339 +0.6207339j , 0.00686155+0.00686155j], dtype=complex64)"
      ]
     },
     "execution_count": 55,
     "metadata": {},
     "output_type": "execute_result"
    }
   ],
   "source": [
    "res_np"
   ]
  },
  {
   "cell_type": "code",
   "execution_count": null,
   "metadata": {},
   "outputs": [
    {
     "name": "stdout",
     "output_type": "stream",
     "text": [
      "[0. 0. 0. ... 0. 0. 0.]\n",
      "0.0\n"
     ]
    }
   ],
   "source": [
    "a_np = np.random.rand(50000).astype(np.float32)\n",
    "b_np = np.random.rand(50000).astype(np.float32)\n",
    "\n",
    "ctx = cl.create_some_context()\n",
    "queue = cl.CommandQueue(ctx)\n",
    "\n",
    "mf = cl.mem_flags\n",
    "a_g = cl.Buffer(ctx, mf.READ_ONLY | mf.COPY_HOST_PTR, hostbuf=a_np)\n",
    "b_g = cl.Buffer(ctx, mf.READ_ONLY | mf.COPY_HOST_PTR, hostbuf=b_np)\n",
    "\n",
    "prg = cl.Program(ctx, \"\"\"\n",
    "__kernel void sum(\n",
    "    __global const float *a_g, __global const float *b_g, __global float *res_g)\n",
    "{\n",
    "  int gid = get_global_id(0);\n",
    "  res_g[gid] = a_g[gid] + b_g[gid];\n",
    "}\n",
    "\"\"\").build()\n",
    "\n",
    "res_g = cl.Buffer(ctx, mf.WRITE_ONLY, a_np.nbytes)\n",
    "knl = prg.sum  # Use this Kernel object for repeated calls\n",
    "knl(queue, a_np.shape, None, a_g, b_g, res_g)\n",
    "\n",
    "res_np = np.empty_like(a_np)\n",
    "cl.enqueue_copy(queue, res_np, res_g)\n",
    "\n",
    "# Check on CPU with Numpy:\n",
    "print(res_np - (a_np + b_np))\n",
    "print(np.linalg.norm(res_np - (a_np + b_np)))\n",
    "assert np.allclose(res_np, a_np + b_np)"
   ]
  },
  {
   "cell_type": "code",
   "execution_count": 21,
   "metadata": {},
   "outputs": [
    {
     "data": {
      "text/plain": [
       "<pyopencl.Context at 0x204b84d59f0 on <pyopencl.Device 'GeForce RTX 2080 SUPER' on 'NVIDIA CUDA' at 0x204a630aa20>>"
      ]
     },
     "execution_count": 21,
     "metadata": {},
     "output_type": "execute_result"
    }
   ],
   "source": [
    "cl.Context(devices=cl.get_platforms()[0].get_devices()[:1])"
   ]
  },
  {
   "cell_type": "code",
   "execution_count": 13,
   "metadata": {},
   "outputs": [
    {
     "data": {
      "text/plain": [
       "[<pyopencl.Device 'GeForce RTX 2080 SUPER' on 'NVIDIA CUDA' at 0x204a630aa20>,\n",
       " <pyopencl.Device 'GeForce GTX 1050 Ti' on 'NVIDIA CUDA' at 0x204a630aa70>]"
      ]
     },
     "execution_count": 13,
     "metadata": {},
     "output_type": "execute_result"
    }
   ],
   "source": [
    "cl.get_platforms()[0].get_devices()"
   ]
  },
  {
   "cell_type": "code",
   "execution_count": 12,
   "metadata": {},
   "outputs": [
    {
     "data": {
      "text/plain": [
       "[(<pyopencl.Platform 'NVIDIA CUDA' at 0x204a630ac00>,\n",
       "  [<pyopencl.Device 'GeForce RTX 2080 SUPER' on 'NVIDIA CUDA' at 0x204a630aa20>,\n",
       "   <pyopencl.Device 'GeForce GTX 1050 Ti' on 'NVIDIA CUDA' at 0x204a630aa70>])]"
      ]
     },
     "execution_count": 12,
     "metadata": {},
     "output_type": "execute_result"
    }
   ],
   "source": [
    "cl.tools.get_test_platforms_and_devices()"
   ]
  },
  {
   "cell_type": "code",
   "execution_count": 8,
   "metadata": {},
   "outputs": [
    {
     "data": {
      "text/plain": [
       "<pyopencl.Program at 0x204b79c8088>"
      ]
     },
     "execution_count": 8,
     "metadata": {},
     "output_type": "execute_result"
    }
   ],
   "source": [
    "prg"
   ]
  },
  {
   "cell_type": "code",
   "execution_count": 198,
   "metadata": {},
   "outputs": [
    {
     "data": {
      "text/plain": [
       "array([[  0.,   1.,   2.,   3.,   4.,   5.,   6.,   7.,   8.,   9.,  10.,\n",
       "         11.,  12.,  13.,  14.,  15.],\n",
       "       [ 16.,  17.,  18.,  19.,  20.,  21.,  22.,  23.,  24.,  25.,  26.,\n",
       "         27.,  28.,  29.,  30.,  31.],\n",
       "       [ 32.,  33.,  34.,  35.,  36.,  37.,  38.,  39.,  40.,  41.,  42.,\n",
       "         43.,  44.,  45.,  46.,  47.],\n",
       "       [ 48.,  49.,  50.,  51.,  52.,  53.,  54.,  55.,  56.,  57.,  58.,\n",
       "         59.,  60.,  61.,  62.,  63.],\n",
       "       [ 64.,  65.,  66.,  67.,  68.,  69.,  70.,  71.,  72.,  73.,  74.,\n",
       "         75.,  76.,  77.,  78.,  79.],\n",
       "       [ 80.,  81.,  82.,  83.,  84.,  85.,  86.,  87.,  88.,  89.,  90.,\n",
       "         91.,  92.,  93.,  94.,  95.],\n",
       "       [ 96.,  97.,  98.,  99., 100., 101., 102., 103., 104., 105., 106.,\n",
       "        107., 108., 109., 110., 111.],\n",
       "       [112., 113., 114., 115., 116., 117., 118., 119., 120., 121., 122.,\n",
       "        123., 124., 125., 126., 127.],\n",
       "       [128., 129., 130., 131., 132., 133., 134., 135., 136., 137., 138.,\n",
       "        139., 140., 141., 142., 143.],\n",
       "       [144., 145., 146., 147., 148., 149., 150., 151., 152., 153., 154.,\n",
       "        155., 156., 157., 158., 159.],\n",
       "       [160., 161., 162., 163., 164., 165., 166., 167., 168., 169., 170.,\n",
       "        171., 172., 173., 174., 175.],\n",
       "       [176., 177., 178., 179., 180., 181., 182., 183., 184., 185., 186.,\n",
       "        187., 188., 189., 190., 191.],\n",
       "       [192., 193., 194., 195., 196., 197., 198., 199., 200., 201., 202.,\n",
       "        203., 204., 205., 206., 207.],\n",
       "       [208., 209., 210., 211., 212., 213., 214., 215., 216., 217., 218.,\n",
       "        219., 220., 221., 222., 223.],\n",
       "       [224., 225., 226., 227., 228., 229., 230., 231., 232., 233., 234.,\n",
       "        235., 236., 237., 238., 239.],\n",
       "       [240., 241., 242., 243., 244., 245., 246., 247., 248., 249., 250.,\n",
       "        251., 252., 253., 254., 255.]])"
      ]
     },
     "execution_count": 198,
     "metadata": {},
     "output_type": "execute_result"
    }
   ],
   "source": [
    "f2 = np.fft.fft2\n",
    "f2(f2(f2(f2(x))/256)/256).real"
   ]
  },
  {
   "cell_type": "code",
   "execution_count": 197,
   "metadata": {},
   "outputs": [
    {
     "data": {
      "text/plain": [
       "array([[  0.,  15.,  14.,  13.,  12.,  11.,  10.,   9.,   8.,   7.,   6.,\n",
       "          5.,   4.,   3.,   2.,   1.],\n",
       "       [240., 255., 254., 253., 252., 251., 250., 249., 248., 247., 246.,\n",
       "        245., 244., 243., 242., 241.],\n",
       "       [224., 239., 238., 237., 236., 235., 234., 233., 232., 231., 230.,\n",
       "        229., 228., 227., 226., 225.],\n",
       "       [208., 223., 222., 221., 220., 219., 218., 217., 216., 215., 214.,\n",
       "        213., 212., 211., 210., 209.],\n",
       "       [192., 207., 206., 205., 204., 203., 202., 201., 200., 199., 198.,\n",
       "        197., 196., 195., 194., 193.],\n",
       "       [176., 191., 190., 189., 188., 187., 186., 185., 184., 183., 182.,\n",
       "        181., 180., 179., 178., 177.],\n",
       "       [160., 175., 174., 173., 172., 171., 170., 169., 168., 167., 166.,\n",
       "        165., 164., 163., 162., 161.],\n",
       "       [144., 159., 158., 157., 156., 155., 154., 153., 152., 151., 150.,\n",
       "        149., 148., 147., 146., 145.],\n",
       "       [128., 143., 142., 141., 140., 139., 138., 137., 136., 135., 134.,\n",
       "        133., 132., 131., 130., 129.],\n",
       "       [112., 127., 126., 125., 124., 123., 122., 121., 120., 119., 118.,\n",
       "        117., 116., 115., 114., 113.],\n",
       "       [ 96., 111., 110., 109., 108., 107., 106., 105., 104., 103., 102.,\n",
       "        101., 100.,  99.,  98.,  97.],\n",
       "       [ 80.,  95.,  94.,  93.,  92.,  91.,  90.,  89.,  88.,  87.,  86.,\n",
       "         85.,  84.,  83.,  82.,  81.],\n",
       "       [ 64.,  79.,  78.,  77.,  76.,  75.,  74.,  73.,  72.,  71.,  70.,\n",
       "         69.,  68.,  67.,  66.,  65.],\n",
       "       [ 48.,  63.,  62.,  61.,  60.,  59.,  58.,  57.,  56.,  55.,  54.,\n",
       "         53.,  52.,  51.,  50.,  49.],\n",
       "       [ 32.,  47.,  46.,  45.,  44.,  43.,  42.,  41.,  40.,  39.,  38.,\n",
       "         37.,  36.,  35.,  34.,  33.],\n",
       "       [ 16.,  31.,  30.,  29.,  28.,  27.,  26.,  25.,  24.,  23.,  22.,\n",
       "         21.,  20.,  19.,  18.,  17.]])"
      ]
     },
     "execution_count": 197,
     "metadata": {},
     "output_type": "execute_result"
    }
   ],
   "source": [
    "np.fft.fft2(np.fft.fft2(x)/256).real"
   ]
  },
  {
   "cell_type": "code",
   "execution_count": 124,
   "metadata": {},
   "outputs": [
    {
     "name": "stdout",
     "output_type": "stream",
     "text": [
      "3.51 ms ± 697 µs per loop (mean ± std. dev. of 7 runs, 100 loops each)\n"
     ]
    }
   ],
   "source": [
    "%timeit FFT(im.astype('c8'))"
   ]
  },
  {
   "cell_type": "code",
   "execution_count": 125,
   "metadata": {},
   "outputs": [
    {
     "name": "stdout",
     "output_type": "stream",
     "text": [
      "2.71 ms ± 1 ms per loop (mean ± std. dev. of 7 runs, 100 loops each)\n"
     ]
    }
   ],
   "source": [
    "%timeit DFT(im.astype('c8'))"
   ]
  },
  {
   "cell_type": "code",
   "execution_count": 143,
   "metadata": {},
   "outputs": [],
   "source": [
    "im = np.random.random((4096,4096))"
   ]
  },
  {
   "cell_type": "code",
   "execution_count": 155,
   "metadata": {},
   "outputs": [
    {
     "name": "stdout",
     "output_type": "stream",
     "text": [
      "3.16 s ± 120 ms per loop (mean ± std. dev. of 7 runs, 1 loop each)\n"
     ]
    }
   ],
   "source": [
    "%timeit FFT_2D(im.astype('c8'))"
   ]
  },
  {
   "cell_type": "code",
   "execution_count": 145,
   "metadata": {},
   "outputs": [
    {
     "name": "stdout",
     "output_type": "stream",
     "text": [
      "6.79 s ± 634 ms per loop (mean ± std. dev. of 7 runs, 1 loop each)\n"
     ]
    }
   ],
   "source": [
    "%timeit DFT_2D(im.astype('c8'))"
   ]
  },
  {
   "cell_type": "code",
   "execution_count": 146,
   "metadata": {},
   "outputs": [
    {
     "name": "stdout",
     "output_type": "stream",
     "text": [
      "1.05 s ± 107 ms per loop (mean ± std. dev. of 7 runs, 1 loop each)\n"
     ]
    }
   ],
   "source": [
    "%timeit np.fft.fft2(im.astype('c8'))"
   ]
  },
  {
   "cell_type": "code",
   "execution_count": 85,
   "metadata": {},
   "outputs": [
    {
     "data": {
      "text/plain": [
       "array([[ 0.+0.j,  1.+0.j,  2.+0.j,  3.+0.j,  4.+0.j,  5.+0.j,  6.+0.j,\n",
       "         7.+0.j,  8.+0.j,  9.+0.j, 10.+0.j, 11.+0.j, 12.+0.j, 13.+0.j,\n",
       "        14.+0.j, 15.+0.j, 16.+0.j, 17.+0.j, 18.+0.j, 19.+0.j, 20.+0.j,\n",
       "        21.+0.j, 22.+0.j, 23.+0.j, 24.+0.j, 25.+0.j, 26.+0.j, 27.+0.j,\n",
       "        28.+0.j, 29.+0.j, 30.+0.j, 31.+0.j, 32.+0.j, 33.+0.j, 34.+0.j,\n",
       "        35.+0.j, 36.+0.j, 37.+0.j, 38.+0.j, 39.+0.j, 40.+0.j, 41.+0.j,\n",
       "        42.+0.j, 43.+0.j, 44.+0.j, 45.+0.j, 46.+0.j, 47.+0.j, 48.+0.j,\n",
       "        49.+0.j, 50.+0.j, 51.+0.j, 52.+0.j, 53.+0.j, 54.+0.j, 55.+0.j,\n",
       "        56.+0.j, 57.+0.j, 58.+0.j, 59.+0.j, 60.+0.j, 61.+0.j, 62.+0.j,\n",
       "        63.+0.j, 64.+0.j, 65.+0.j, 66.+0.j, 67.+0.j, 68.+0.j, 69.+0.j,\n",
       "        70.+0.j, 71.+0.j, 72.+0.j, 73.+0.j, 74.+0.j, 75.+0.j, 76.+0.j,\n",
       "        77.+0.j, 78.+0.j, 79.+0.j, 80.+0.j, 81.+0.j, 82.+0.j, 83.+0.j,\n",
       "        84.+0.j, 85.+0.j, 86.+0.j, 87.+0.j, 88.+0.j, 89.+0.j, 90.+0.j,\n",
       "        91.+0.j, 92.+0.j, 93.+0.j, 94.+0.j, 95.+0.j, 96.+0.j, 97.+0.j,\n",
       "        98.+0.j, 99.+0.j]], dtype=complex64)"
      ]
     },
     "execution_count": 85,
     "metadata": {},
     "output_type": "execute_result"
    }
   ],
   "source": [
    "np.indices((100,), dtype = 'complex64')"
   ]
  },
  {
   "cell_type": "code",
   "execution_count": 81,
   "metadata": {},
   "outputs": [
    {
     "data": {
      "text/plain": [
       "0.024595019276879036"
      ]
     },
     "execution_count": 81,
     "metadata": {},
     "output_type": "execute_result"
    }
   ],
   "source": [
    "(np.abs(DFT_2D(im.astype('complex64')) - np.fft.fft2(im.astype('complex64'))).max())"
   ]
  },
  {
   "cell_type": "code",
   "execution_count": 72,
   "metadata": {},
   "outputs": [
    {
     "data": {
      "text/plain": [
       "array([[51.722347  +0.j        , 51.3077    +0.j        ,\n",
       "        52.734257  +0.j        , ..., 54.791195  +0.j        ,\n",
       "        46.506958  +0.j        , 48.2907    +0.j        ],\n",
       "       [-0.43510166-1.8598697j ,  2.1568806 -0.14518023j,\n",
       "        -2.3426147 -1.7194556j , ...,  0.3152113 +2.969859j  ,\n",
       "        -0.24472259-3.7790878j ,  1.5979205 +2.8453937j ],\n",
       "       [-1.1932945 +0.9424612j , -2.6745787 +0.49207264j,\n",
       "         2.0966783 +4.66387j   , ...,  1.9392802 -0.46233603j,\n",
       "        -1.9460723 -2.4543548j , -1.5759813 -0.93852043j],\n",
       "       ...,\n",
       "       [-1.2924961 -2.838823j  , -0.32342926-5.3968935j ,\n",
       "        -1.4737737 -0.9790594j , ...,  0.25564033-3.062184j  ,\n",
       "        -1.75585   +2.7491593j ,  0.12866984+2.1279614j ],\n",
       "       [-1.1934584 -0.9424772j , -2.6747415 -0.49207693j,\n",
       "         2.096478  -4.6639304j , ...,  1.9391296 +0.46228737j,\n",
       "        -1.9461335 +2.454408j  , -1.576162  +0.93857837j],\n",
       "       [-0.43532386+1.8598753j ,  2.156621  +0.14509048j,\n",
       "        -2.3428648 +1.7194804j , ...,  0.31489027-2.9698923j ,\n",
       "        -0.24491496+3.779152j  ,  1.5976008 -2.8454297j ]],\n",
       "      dtype=complex64)"
      ]
     },
     "execution_count": 72,
     "metadata": {},
     "output_type": "execute_result"
    }
   ],
   "source": [
    "DFT(im.astype('complex64'))"
   ]
  },
  {
   "cell_type": "code",
   "execution_count": 13,
   "metadata": {},
   "outputs": [
    {
     "data": {
      "text/plain": [
       "array([[[0.        +0.j, 0.        +0.j, 0.        +0.j, ...,\n",
       "         0.        +0.j, 0.        +0.j, 0.        +0.j],\n",
       "        [0.01      +0.j, 0.01      +0.j, 0.01      +0.j, ...,\n",
       "         0.01      +0.j, 0.01      +0.j, 0.01      +0.j],\n",
       "        [0.02      +0.j, 0.02      +0.j, 0.02      +0.j, ...,\n",
       "         0.02      +0.j, 0.02      +0.j, 0.02      +0.j],\n",
       "        ...,\n",
       "        [0.96999997+0.j, 0.96999997+0.j, 0.96999997+0.j, ...,\n",
       "         0.96999997+0.j, 0.96999997+0.j, 0.96999997+0.j],\n",
       "        [0.97999996+0.j, 0.97999996+0.j, 0.97999996+0.j, ...,\n",
       "         0.97999996+0.j, 0.97999996+0.j, 0.97999996+0.j],\n",
       "        [0.98999995+0.j, 0.98999995+0.j, 0.98999995+0.j, ...,\n",
       "         0.98999995+0.j, 0.98999995+0.j, 0.98999995+0.j]],\n",
       "\n",
       "       [[0.        +0.j, 0.01      +0.j, 0.02      +0.j, ...,\n",
       "         0.96999997+0.j, 0.97999996+0.j, 0.98999995+0.j],\n",
       "        [0.        +0.j, 0.01      +0.j, 0.02      +0.j, ...,\n",
       "         0.96999997+0.j, 0.97999996+0.j, 0.98999995+0.j],\n",
       "        [0.        +0.j, 0.01      +0.j, 0.02      +0.j, ...,\n",
       "         0.96999997+0.j, 0.97999996+0.j, 0.98999995+0.j],\n",
       "        ...,\n",
       "        [0.        +0.j, 0.01      +0.j, 0.02      +0.j, ...,\n",
       "         0.96999997+0.j, 0.97999996+0.j, 0.98999995+0.j],\n",
       "        [0.        +0.j, 0.01      +0.j, 0.02      +0.j, ...,\n",
       "         0.96999997+0.j, 0.97999996+0.j, 0.98999995+0.j],\n",
       "        [0.        +0.j, 0.01      +0.j, 0.02      +0.j, ...,\n",
       "         0.96999997+0.j, 0.97999996+0.j, 0.98999995+0.j]]],\n",
       "      dtype=complex64)"
      ]
     },
     "execution_count": 13,
     "metadata": {},
     "output_type": "execute_result"
    }
   ],
   "source": [
    "np.indices((100, 100),dtype = 'complex64') /100"
   ]
  },
  {
   "cell_type": "code",
   "execution_count": 101,
   "metadata": {},
   "outputs": [],
   "source": [
    "im = np.random.random((128,128))"
   ]
  },
  {
   "cell_type": "code",
   "execution_count": 7,
   "metadata": {},
   "outputs": [
    {
     "data": {
      "text/plain": [
       "array([[3.5481378e-09+4.5592647e-41j, 3.5481378e-09+4.5592647e-41j,\n",
       "        5.4710925e-37+0.0000000e+00j, ..., 0.0000000e+00+0.0000000e+00j,\n",
       "        0.0000000e+00+0.0000000e+00j, 0.0000000e+00+0.0000000e+00j],\n",
       "       [0.0000000e+00+0.0000000e+00j, 0.0000000e+00+0.0000000e+00j,\n",
       "        0.0000000e+00+0.0000000e+00j, ..., 0.0000000e+00+0.0000000e+00j,\n",
       "        0.0000000e+00+0.0000000e+00j, 0.0000000e+00+0.0000000e+00j],\n",
       "       [0.0000000e+00+0.0000000e+00j, 0.0000000e+00+0.0000000e+00j,\n",
       "        0.0000000e+00+0.0000000e+00j, ..., 0.0000000e+00+0.0000000e+00j,\n",
       "        0.0000000e+00+0.0000000e+00j, 0.0000000e+00+0.0000000e+00j],\n",
       "       ...,\n",
       "       [0.0000000e+00+0.0000000e+00j, 0.0000000e+00+0.0000000e+00j,\n",
       "        0.0000000e+00+2.3694275e-38j, ..., 0.0000000e+00+0.0000000e+00j,\n",
       "        0.0000000e+00+0.0000000e+00j, 0.0000000e+00+0.0000000e+00j],\n",
       "       [0.0000000e+00+0.0000000e+00j, 0.0000000e+00+0.0000000e+00j,\n",
       "        0.0000000e+00+0.0000000e+00j, ..., 2.3694278e-38+2.3694278e-38j,\n",
       "        2.3694278e-38+2.3694278e-38j, 2.3694278e-38+2.3694278e-38j],\n",
       "       [2.3694278e-38+2.3694278e-38j, 2.3694278e-38+2.3694278e-38j,\n",
       "        2.3694278e-38+2.3694278e-38j, ..., 2.3694278e-38+2.3694278e-38j,\n",
       "        2.3694278e-38+2.3694278e-38j, 2.3694278e-38+2.3694278e-38j]],\n",
       "      dtype=complex64)"
      ]
     },
     "execution_count": 7,
     "metadata": {},
     "output_type": "execute_result"
    }
   ],
   "source": [
    "DFT(im)"
   ]
  },
  {
   "cell_type": "code",
   "execution_count": null,
   "metadata": {},
   "outputs": [],
   "source": []
  }
 ],
 "metadata": {
  "interpreter": {
   "hash": "f98cc37ea06f2e4565f6cee96d22a9f4bfa4ae688c00ffed2289142b4566d1b2"
  },
  "kernelspec": {
   "display_name": "Python 3.7.4 ('base')",
   "language": "python",
   "name": "python3"
  },
  "language_info": {
   "codemirror_mode": {
    "name": "ipython",
    "version": 3
   },
   "file_extension": ".py",
   "mimetype": "text/x-python",
   "name": "python",
   "nbconvert_exporter": "python",
   "pygments_lexer": "ipython3",
   "version": "3.7.4"
  },
  "orig_nbformat": 4
 },
 "nbformat": 4,
 "nbformat_minor": 2
}
